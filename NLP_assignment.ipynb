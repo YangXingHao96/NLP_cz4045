{
 "cells": [
  {
   "cell_type": "code",
   "execution_count": 60,
   "metadata": {},
   "outputs": [],
   "source": [
    "import pandas as pd\n",
    "from sklearn.metrics import classification_report\n",
    "from nltk.sentiment import SentimentIntensityAnalyzer\n",
    "import operator\n",
    "import numpy as np\n",
    "from textblob import TextBlob\n",
    "from transformers import pipeline\n"
   ]
  },
  {
   "cell_type": "code",
   "execution_count": 49,
   "metadata": {},
   "outputs": [],
   "source": [
    "training_data = pd.read_csv('df_english.csv')\n",
    "training_data = training_data[training_data.is_english == True]\n"
   ]
  },
  {
   "cell_type": "code",
   "execution_count": 50,
   "metadata": {},
   "outputs": [
    {
     "data": {
      "text/html": [
       "<div>\n",
       "<style scoped>\n",
       "    .dataframe tbody tr th:only-of-type {\n",
       "        vertical-align: middle;\n",
       "    }\n",
       "\n",
       "    .dataframe tbody tr th {\n",
       "        vertical-align: top;\n",
       "    }\n",
       "\n",
       "    .dataframe thead th {\n",
       "        text-align: right;\n",
       "    }\n",
       "</style>\n",
       "<table border=\"1\" class=\"dataframe\">\n",
       "  <thead>\n",
       "    <tr style=\"text-align: right;\">\n",
       "      <th></th>\n",
       "      <th>Unnamed: 0</th>\n",
       "      <th>reviewId</th>\n",
       "      <th>userName</th>\n",
       "      <th>userImage</th>\n",
       "      <th>content</th>\n",
       "      <th>score</th>\n",
       "      <th>thumbsUpCount</th>\n",
       "      <th>reviewCreatedVersion</th>\n",
       "      <th>at</th>\n",
       "      <th>replyContent</th>\n",
       "      <th>repliedAt</th>\n",
       "      <th>is_english</th>\n",
       "    </tr>\n",
       "  </thead>\n",
       "  <tbody>\n",
       "    <tr>\n",
       "      <th>0</th>\n",
       "      <td>0</td>\n",
       "      <td>86ff1ea1-0b63-43ce-addc-eb43f6193b3b</td>\n",
       "      <td>Yaseen Yaseen</td>\n",
       "      <td>https://play-lh.googleusercontent.com/a/ALm5wu...</td>\n",
       "      <td>Yaeen Yaeen gg</td>\n",
       "      <td>5</td>\n",
       "      <td>0</td>\n",
       "      <td>NaN</td>\n",
       "      <td>2022-10-04 20:32:28</td>\n",
       "      <td>NaN</td>\n",
       "      <td>NaN</td>\n",
       "      <td>True</td>\n",
       "    </tr>\n",
       "    <tr>\n",
       "      <th>1</th>\n",
       "      <td>1</td>\n",
       "      <td>3577f7a1-3394-4e77-813d-095a82cf8bcf</td>\n",
       "      <td>Kemar Richardson</td>\n",
       "      <td>https://play-lh.googleusercontent.com/a-/ACNPE...</td>\n",
       "      <td>Great</td>\n",
       "      <td>5</td>\n",
       "      <td>0</td>\n",
       "      <td>26.3.4</td>\n",
       "      <td>2022-10-04 20:32:10</td>\n",
       "      <td>NaN</td>\n",
       "      <td>NaN</td>\n",
       "      <td>True</td>\n",
       "    </tr>\n",
       "    <tr>\n",
       "      <th>2</th>\n",
       "      <td>2</td>\n",
       "      <td>7c8c56d9-d8ad-47d4-b24b-5289aa4529ff</td>\n",
       "      <td>Tracy Dunn</td>\n",
       "      <td>https://play-lh.googleusercontent.com/a/ALm5wu...</td>\n",
       "      <td>good</td>\n",
       "      <td>5</td>\n",
       "      <td>0</td>\n",
       "      <td>26.4.3</td>\n",
       "      <td>2022-10-04 20:31:21</td>\n",
       "      <td>NaN</td>\n",
       "      <td>NaN</td>\n",
       "      <td>True</td>\n",
       "    </tr>\n",
       "    <tr>\n",
       "      <th>3</th>\n",
       "      <td>3</td>\n",
       "      <td>80db804f-cccd-4b09-b690-abc12cbf0612</td>\n",
       "      <td>SG. Mugo. (Mugoz:)</td>\n",
       "      <td>https://play-lh.googleusercontent.com/a-/ACNPE...</td>\n",
       "      <td>Good app</td>\n",
       "      <td>5</td>\n",
       "      <td>0</td>\n",
       "      <td>26.3.4</td>\n",
       "      <td>2022-10-04 20:30:22</td>\n",
       "      <td>NaN</td>\n",
       "      <td>NaN</td>\n",
       "      <td>True</td>\n",
       "    </tr>\n",
       "    <tr>\n",
       "      <th>4</th>\n",
       "      <td>4</td>\n",
       "      <td>4ed35e90-0f45-4865-81c4-b3a6f2ea49f7</td>\n",
       "      <td>Mwansa Judy</td>\n",
       "      <td>https://play-lh.googleusercontent.com/a-/ACNPE...</td>\n",
       "      <td>Most amazing app</td>\n",
       "      <td>5</td>\n",
       "      <td>0</td>\n",
       "      <td>26.3.4</td>\n",
       "      <td>2022-10-04 20:29:25</td>\n",
       "      <td>NaN</td>\n",
       "      <td>NaN</td>\n",
       "      <td>True</td>\n",
       "    </tr>\n",
       "    <tr>\n",
       "      <th>...</th>\n",
       "      <td>...</td>\n",
       "      <td>...</td>\n",
       "      <td>...</td>\n",
       "      <td>...</td>\n",
       "      <td>...</td>\n",
       "      <td>...</td>\n",
       "      <td>...</td>\n",
       "      <td>...</td>\n",
       "      <td>...</td>\n",
       "      <td>...</td>\n",
       "      <td>...</td>\n",
       "      <td>...</td>\n",
       "    </tr>\n",
       "    <tr>\n",
       "      <th>99995</th>\n",
       "      <td>99995</td>\n",
       "      <td>b1e4a582-bf47-46ad-a4dc-884468d8eddd</td>\n",
       "      <td>A Google user</td>\n",
       "      <td>https://play-lh.googleusercontent.com/EGemoI2N...</td>\n",
       "      <td>Best app in pakistan  tik toker Soham anwar Th...</td>\n",
       "      <td>5</td>\n",
       "      <td>1</td>\n",
       "      <td>25.8.5</td>\n",
       "      <td>2022-08-29 23:21:07</td>\n",
       "      <td>NaN</td>\n",
       "      <td>NaN</td>\n",
       "      <td>True</td>\n",
       "    </tr>\n",
       "    <tr>\n",
       "      <th>99996</th>\n",
       "      <td>99996</td>\n",
       "      <td>95df7741-4bbf-4d04-a60c-03b11f3ba268</td>\n",
       "      <td>Ethio culture</td>\n",
       "      <td>https://play-lh.googleusercontent.com/a-/ACNPE...</td>\n",
       "      <td>Perfect</td>\n",
       "      <td>4</td>\n",
       "      <td>0</td>\n",
       "      <td>25.9.4</td>\n",
       "      <td>2022-08-29 23:20:52</td>\n",
       "      <td>NaN</td>\n",
       "      <td>NaN</td>\n",
       "      <td>True</td>\n",
       "    </tr>\n",
       "    <tr>\n",
       "      <th>99997</th>\n",
       "      <td>99997</td>\n",
       "      <td>3e6ae27e-d761-4079-98a1-b5e95f296546</td>\n",
       "      <td>Zafar Awan</td>\n",
       "      <td>https://play-lh.googleusercontent.com/a/ALm5wu...</td>\n",
       "      <td>So nice</td>\n",
       "      <td>5</td>\n",
       "      <td>1</td>\n",
       "      <td>25.8.5</td>\n",
       "      <td>2022-08-29 23:19:05</td>\n",
       "      <td>NaN</td>\n",
       "      <td>NaN</td>\n",
       "      <td>True</td>\n",
       "    </tr>\n",
       "    <tr>\n",
       "      <th>99998</th>\n",
       "      <td>99998</td>\n",
       "      <td>380379d5-7c99-4e0d-a140-6cfd898aa619</td>\n",
       "      <td>Anger Kuiel</td>\n",
       "      <td>https://play-lh.googleusercontent.com/a/ALm5wu...</td>\n",
       "      <td>Its a great app</td>\n",
       "      <td>5</td>\n",
       "      <td>1</td>\n",
       "      <td>25.8.5</td>\n",
       "      <td>2022-08-29 23:18:53</td>\n",
       "      <td>NaN</td>\n",
       "      <td>NaN</td>\n",
       "      <td>True</td>\n",
       "    </tr>\n",
       "    <tr>\n",
       "      <th>99999</th>\n",
       "      <td>99999</td>\n",
       "      <td>42dc3232-f94a-481b-84e3-b7c5dcb796b0</td>\n",
       "      <td>Momotaj Jeba</td>\n",
       "      <td>https://play-lh.googleusercontent.com/a/ALm5wu...</td>\n",
       "      <td>Tahasha</td>\n",
       "      <td>3</td>\n",
       "      <td>0</td>\n",
       "      <td>NaN</td>\n",
       "      <td>2022-08-29 23:18:33</td>\n",
       "      <td>NaN</td>\n",
       "      <td>NaN</td>\n",
       "      <td>True</td>\n",
       "    </tr>\n",
       "  </tbody>\n",
       "</table>\n",
       "<p>94911 rows × 12 columns</p>\n",
       "</div>"
      ],
      "text/plain": [
       "       Unnamed: 0                              reviewId            userName  \\\n",
       "0               0  86ff1ea1-0b63-43ce-addc-eb43f6193b3b       Yaseen Yaseen   \n",
       "1               1  3577f7a1-3394-4e77-813d-095a82cf8bcf    Kemar Richardson   \n",
       "2               2  7c8c56d9-d8ad-47d4-b24b-5289aa4529ff          Tracy Dunn   \n",
       "3               3  80db804f-cccd-4b09-b690-abc12cbf0612  SG. Mugo. (Mugoz:)   \n",
       "4               4  4ed35e90-0f45-4865-81c4-b3a6f2ea49f7         Mwansa Judy   \n",
       "...           ...                                   ...                 ...   \n",
       "99995       99995  b1e4a582-bf47-46ad-a4dc-884468d8eddd       A Google user   \n",
       "99996       99996  95df7741-4bbf-4d04-a60c-03b11f3ba268       Ethio culture   \n",
       "99997       99997  3e6ae27e-d761-4079-98a1-b5e95f296546          Zafar Awan   \n",
       "99998       99998  380379d5-7c99-4e0d-a140-6cfd898aa619         Anger Kuiel   \n",
       "99999       99999  42dc3232-f94a-481b-84e3-b7c5dcb796b0        Momotaj Jeba   \n",
       "\n",
       "                                               userImage  \\\n",
       "0      https://play-lh.googleusercontent.com/a/ALm5wu...   \n",
       "1      https://play-lh.googleusercontent.com/a-/ACNPE...   \n",
       "2      https://play-lh.googleusercontent.com/a/ALm5wu...   \n",
       "3      https://play-lh.googleusercontent.com/a-/ACNPE...   \n",
       "4      https://play-lh.googleusercontent.com/a-/ACNPE...   \n",
       "...                                                  ...   \n",
       "99995  https://play-lh.googleusercontent.com/EGemoI2N...   \n",
       "99996  https://play-lh.googleusercontent.com/a-/ACNPE...   \n",
       "99997  https://play-lh.googleusercontent.com/a/ALm5wu...   \n",
       "99998  https://play-lh.googleusercontent.com/a/ALm5wu...   \n",
       "99999  https://play-lh.googleusercontent.com/a/ALm5wu...   \n",
       "\n",
       "                                                 content  score  \\\n",
       "0                                         Yaeen Yaeen gg      5   \n",
       "1                                                  Great      5   \n",
       "2                                                   good      5   \n",
       "3                                               Good app      5   \n",
       "4                                       Most amazing app      5   \n",
       "...                                                  ...    ...   \n",
       "99995  Best app in pakistan  tik toker Soham anwar Th...      5   \n",
       "99996                                            Perfect      4   \n",
       "99997                                            So nice      5   \n",
       "99998                                    Its a great app      5   \n",
       "99999                                           Tahasha       3   \n",
       "\n",
       "       thumbsUpCount reviewCreatedVersion                   at replyContent  \\\n",
       "0                  0                  NaN  2022-10-04 20:32:28          NaN   \n",
       "1                  0               26.3.4  2022-10-04 20:32:10          NaN   \n",
       "2                  0               26.4.3  2022-10-04 20:31:21          NaN   \n",
       "3                  0               26.3.4  2022-10-04 20:30:22          NaN   \n",
       "4                  0               26.3.4  2022-10-04 20:29:25          NaN   \n",
       "...              ...                  ...                  ...          ...   \n",
       "99995              1               25.8.5  2022-08-29 23:21:07          NaN   \n",
       "99996              0               25.9.4  2022-08-29 23:20:52          NaN   \n",
       "99997              1               25.8.5  2022-08-29 23:19:05          NaN   \n",
       "99998              1               25.8.5  2022-08-29 23:18:53          NaN   \n",
       "99999              0                  NaN  2022-08-29 23:18:33          NaN   \n",
       "\n",
       "      repliedAt  is_english  \n",
       "0           NaN        True  \n",
       "1           NaN        True  \n",
       "2           NaN        True  \n",
       "3           NaN        True  \n",
       "4           NaN        True  \n",
       "...         ...         ...  \n",
       "99995       NaN        True  \n",
       "99996       NaN        True  \n",
       "99997       NaN        True  \n",
       "99998       NaN        True  \n",
       "99999       NaN        True  \n",
       "\n",
       "[94911 rows x 12 columns]"
      ]
     },
     "execution_count": 50,
     "metadata": {},
     "output_type": "execute_result"
    }
   ],
   "source": [
    "training_data"
   ]
  },
  {
   "cell_type": "markdown",
   "metadata": {},
   "source": [
    "We will be assigning the ratings of (1-2) to negative, (3) to neutral and (4-5) to positve"
   ]
  },
  {
   "cell_type": "code",
   "execution_count": 51,
   "metadata": {},
   "outputs": [],
   "source": [
    "def get_rating(df):\n",
    "    tmp = []\n",
    "    for _, row in df.iterrows():\n",
    "        if row[\"score\"] >= 4:\n",
    "            tmp.append(\"positive\")\n",
    "        elif row[\"score\"] == 3:\n",
    "            tmp.append(\"neutral\")\n",
    "        else:\n",
    "            tmp.append(\"negative\")\n",
    "    df[\"rating_sentiment\"] = tmp\n",
    "get_rating(training_data)"
   ]
  },
  {
   "cell_type": "markdown",
   "metadata": {},
   "source": [
    "Before we actually do anything with the training dataset, we may want to do some bench marking with some of the existing pre-trained model to find out how accurate these models are able to label the tweets. The labelled data follow the following format 0 being negative, 2 being neutral and 4 being positive. From there we can perform some cleaning on the content and try to observe how different cleaning method should be adopted to tweeter data. Before we actually start training our own model."
   ]
  },
  {
   "cell_type": "markdown",
   "metadata": {},
   "source": [
    "Some of the common models that we are going to use for sentiment analysis bench marking are NLTK Vader, text blob (both are rules-based sentiment analyzer), transformer based model from hugging face."
   ]
  },
  {
   "cell_type": "markdown",
   "metadata": {},
   "source": [
    "We will then check the performance of each model given different cleaning methods. The performance metrics we will be using are Accuracy (correct predictions over all predictions), Precision (how many of the positive predictions made are correct), Specificity (a measure of how many negative predictions made are correct), and F1-Score (the harmonic mean of precision and recall)\n",
    "\n"
   ]
  },
  {
   "cell_type": "markdown",
   "metadata": {},
   "source": [
    "Perform prediction on exisiting training data without any cleaning"
   ]
  },
  {
   "cell_type": "markdown",
   "metadata": {},
   "source": [
    "Performing test on training data using NLTK Vader"
   ]
  },
  {
   "cell_type": "code",
   "execution_count": 52,
   "metadata": {},
   "outputs": [],
   "source": [
    "\n",
    "sia = SentimentIntensityAnalyzer()\n",
    "training_data[\"nltk_sentiment_score\"] = training_data[\"content\"].apply(\n",
    "    lambda x: sia.polarity_scores(str(x))[\"compound\"])\n",
    "training_data[\"nltk_sentiment\"] = np.select([training_data[\"nltk_sentiment_score\"] < 0, training_data[\"nltk_sentiment_score\"] == 0, training_data[\"nltk_sentiment_score\"] > 0],\n",
    "                            ['negative', 'neutral', 'positive'])\n"
   ]
  },
  {
   "cell_type": "markdown",
   "metadata": {},
   "source": [
    "Check the prediction accuracy when we use nltk without additional cleaning"
   ]
  },
  {
   "cell_type": "code",
   "execution_count": 55,
   "metadata": {},
   "outputs": [
    {
     "name": "stdout",
     "output_type": "stream",
     "text": [
      "              precision    recall  f1-score   support\n",
      "\n",
      "    positive       0.59      0.34      0.43     16534\n",
      "     neutral       0.05      0.25      0.08      4233\n",
      "    negative       0.87      0.76      0.81     74144\n",
      "\n",
      "    accuracy                           0.66     94911\n",
      "   macro avg       0.50      0.45      0.44     94911\n",
      "weighted avg       0.79      0.66      0.71     94911\n",
      "\n"
     ]
    }
   ],
   "source": [
    "predicted = training_data[\"nltk_sentiment\"]\n",
    "actual = training_data[\"rating_sentiment\"]\n",
    "target_names = ['positive', 'neutral', 'negative']\n",
    "print(classification_report(actual, predicted, target_names=target_names))\n",
    "\n"
   ]
  },
  {
   "cell_type": "markdown",
   "metadata": {},
   "source": [
    "Performing test on training data using text blob"
   ]
  },
  {
   "cell_type": "code",
   "execution_count": 57,
   "metadata": {},
   "outputs": [],
   "source": [
    "training_data[\"txt_blob_sentiment_score\"] = training_data[\"content\"].apply(\n",
    "    lambda x: TextBlob(str(x)).sentiment.polarity)\n",
    "training_data[\"txt_blob_sentiment\"] = np.select([training_data[\"txt_blob_sentiment_score\"] < 0, training_data[\"txt_blob_sentiment_score\"] == 0, training_data[\"txt_blob_sentiment_score\"] > 0],\n",
    "                            ['negative', 'neutral', 'positive'])\n"
   ]
  },
  {
   "cell_type": "code",
   "execution_count": 58,
   "metadata": {},
   "outputs": [
    {
     "name": "stdout",
     "output_type": "stream",
     "text": [
      "              precision    recall  f1-score   support\n",
      "\n",
      "    positive       0.64      0.23      0.34     16534\n",
      "     neutral       0.05      0.32      0.09      4233\n",
      "    negative       0.87      0.71      0.78     74144\n",
      "\n",
      "    accuracy                           0.61     94911\n",
      "   macro avg       0.52      0.42      0.40     94911\n",
      "weighted avg       0.79      0.61      0.67     94911\n",
      "\n"
     ]
    }
   ],
   "source": [
    "predicted = training_data[\"txt_blob_sentiment\"]\n",
    "actual = training_data[\"rating_sentiment\"]\n",
    "target_names = ['positive', 'neutral', 'negative']\n",
    "print(classification_report(actual, predicted, target_names=target_names))\n"
   ]
  },
  {
   "cell_type": "code",
   "execution_count": 62,
   "metadata": {},
   "outputs": [
    {
     "name": "stderr",
     "output_type": "stream",
     "text": [
      "No model was supplied, defaulted to distilbert-base-uncased-finetuned-sst-2-english and revision af0f99b (https://huggingface.co/distilbert-base-uncased-finetuned-sst-2-english).\n",
      "Using a pipeline without specifying a model name and revision in production is not recommended.\n"
     ]
    },
    {
     "ename": "RuntimeError",
     "evalue": "At least one of TensorFlow 2.0 or PyTorch should be installed. To install TensorFlow 2.0, read the instructions at https://www.tensorflow.org/install/ To install PyTorch, read the instructions at https://pytorch.org/.",
     "output_type": "error",
     "traceback": [
      "\u001b[0;31m---------------------------------------------------------------------------\u001b[0m",
      "\u001b[0;31mRuntimeError\u001b[0m                              Traceback (most recent call last)",
      "\u001b[1;32m/Users/yangxinghao/py/jupyter_note_book/NLP_project/NLP_cz4045/NLP_assignment.ipynb Cell 17\u001b[0m in \u001b[0;36m<cell line: 1>\u001b[0;34m()\u001b[0m\n\u001b[0;32m----> <a href='vscode-notebook-cell:/Users/yangxinghao/py/jupyter_note_book/NLP_project/NLP_cz4045/NLP_assignment.ipynb#X51sZmlsZQ%3D%3D?line=0'>1</a>\u001b[0m sentiment_pipeline \u001b[39m=\u001b[39m pipeline(\u001b[39m\"\u001b[39;49m\u001b[39msentiment-analysis\u001b[39;49m\u001b[39m\"\u001b[39;49m)\n\u001b[1;32m      <a href='vscode-notebook-cell:/Users/yangxinghao/py/jupyter_note_book/NLP_project/NLP_cz4045/NLP_assignment.ipynb#X51sZmlsZQ%3D%3D?line=1'>2</a>\u001b[0m data \u001b[39m=\u001b[39m [\u001b[39m\"\u001b[39m\u001b[39mIt was the best of times.\u001b[39m\u001b[39m\"\u001b[39m, \u001b[39m\"\u001b[39m\u001b[39mt was the worst of times.\u001b[39m\u001b[39m\"\u001b[39m]\n\u001b[1;32m      <a href='vscode-notebook-cell:/Users/yangxinghao/py/jupyter_note_book/NLP_project/NLP_cz4045/NLP_assignment.ipynb#X51sZmlsZQ%3D%3D?line=2'>3</a>\u001b[0m sentiment_pipeline(data)\n",
      "File \u001b[0;32m/Library/Frameworks/Python.framework/Versions/3.10/lib/python3.10/site-packages/transformers/pipelines/__init__.py:711\u001b[0m, in \u001b[0;36mpipeline\u001b[0;34m(task, model, config, tokenizer, feature_extractor, framework, revision, use_fast, use_auth_token, device, device_map, torch_dtype, trust_remote_code, model_kwargs, pipeline_class, **kwargs)\u001b[0m\n\u001b[1;32m    707\u001b[0m \u001b[39m# Infer the framework from the model\u001b[39;00m\n\u001b[1;32m    708\u001b[0m \u001b[39m# Forced if framework already defined, inferred if it's None\u001b[39;00m\n\u001b[1;32m    709\u001b[0m \u001b[39m# Will load the correct model if possible\u001b[39;00m\n\u001b[1;32m    710\u001b[0m model_classes \u001b[39m=\u001b[39m {\u001b[39m\"\u001b[39m\u001b[39mtf\u001b[39m\u001b[39m\"\u001b[39m: targeted_task[\u001b[39m\"\u001b[39m\u001b[39mtf\u001b[39m\u001b[39m\"\u001b[39m], \u001b[39m\"\u001b[39m\u001b[39mpt\u001b[39m\u001b[39m\"\u001b[39m: targeted_task[\u001b[39m\"\u001b[39m\u001b[39mpt\u001b[39m\u001b[39m\"\u001b[39m]}\n\u001b[0;32m--> 711\u001b[0m framework, model \u001b[39m=\u001b[39m infer_framework_load_model(\n\u001b[1;32m    712\u001b[0m     model,\n\u001b[1;32m    713\u001b[0m     model_classes\u001b[39m=\u001b[39;49mmodel_classes,\n\u001b[1;32m    714\u001b[0m     config\u001b[39m=\u001b[39;49mconfig,\n\u001b[1;32m    715\u001b[0m     framework\u001b[39m=\u001b[39;49mframework,\n\u001b[1;32m    716\u001b[0m     task\u001b[39m=\u001b[39;49mtask,\n\u001b[1;32m    717\u001b[0m     \u001b[39m*\u001b[39;49m\u001b[39m*\u001b[39;49mhub_kwargs,\n\u001b[1;32m    718\u001b[0m     \u001b[39m*\u001b[39;49m\u001b[39m*\u001b[39;49mmodel_kwargs,\n\u001b[1;32m    719\u001b[0m )\n\u001b[1;32m    721\u001b[0m model_config \u001b[39m=\u001b[39m model\u001b[39m.\u001b[39mconfig\n\u001b[1;32m    722\u001b[0m hub_kwargs[\u001b[39m\"\u001b[39m\u001b[39m_commit_hash\u001b[39m\u001b[39m\"\u001b[39m] \u001b[39m=\u001b[39m model\u001b[39m.\u001b[39mconfig\u001b[39m.\u001b[39m_commit_hash\n",
      "File \u001b[0;32m/Library/Frameworks/Python.framework/Versions/3.10/lib/python3.10/site-packages/transformers/pipelines/base.py:209\u001b[0m, in \u001b[0;36minfer_framework_load_model\u001b[0;34m(model, config, model_classes, task, framework, **model_kwargs)\u001b[0m\n\u001b[1;32m    183\u001b[0m \u001b[39m\"\"\"\u001b[39;00m\n\u001b[1;32m    184\u001b[0m \u001b[39mSelect framework (TensorFlow or PyTorch) to use from the `model` passed. Returns a tuple (framework, model).\u001b[39;00m\n\u001b[1;32m    185\u001b[0m \n\u001b[0;32m   (...)\u001b[0m\n\u001b[1;32m    206\u001b[0m \u001b[39m    `Tuple`: A tuple framework, model.\u001b[39;00m\n\u001b[1;32m    207\u001b[0m \u001b[39m\"\"\"\u001b[39;00m\n\u001b[1;32m    208\u001b[0m \u001b[39mif\u001b[39;00m \u001b[39mnot\u001b[39;00m is_tf_available() \u001b[39mand\u001b[39;00m \u001b[39mnot\u001b[39;00m is_torch_available():\n\u001b[0;32m--> 209\u001b[0m     \u001b[39mraise\u001b[39;00m \u001b[39mRuntimeError\u001b[39;00m(\n\u001b[1;32m    210\u001b[0m         \u001b[39m\"\u001b[39m\u001b[39mAt least one of TensorFlow 2.0 or PyTorch should be installed. \u001b[39m\u001b[39m\"\u001b[39m\n\u001b[1;32m    211\u001b[0m         \u001b[39m\"\u001b[39m\u001b[39mTo install TensorFlow 2.0, read the instructions at https://www.tensorflow.org/install/ \u001b[39m\u001b[39m\"\u001b[39m\n\u001b[1;32m    212\u001b[0m         \u001b[39m\"\u001b[39m\u001b[39mTo install PyTorch, read the instructions at https://pytorch.org/.\u001b[39m\u001b[39m\"\u001b[39m\n\u001b[1;32m    213\u001b[0m     )\n\u001b[1;32m    214\u001b[0m \u001b[39mif\u001b[39;00m \u001b[39misinstance\u001b[39m(model, \u001b[39mstr\u001b[39m):\n\u001b[1;32m    215\u001b[0m     model_kwargs[\u001b[39m\"\u001b[39m\u001b[39m_from_pipeline\u001b[39m\u001b[39m\"\u001b[39m] \u001b[39m=\u001b[39m task\n",
      "\u001b[0;31mRuntimeError\u001b[0m: At least one of TensorFlow 2.0 or PyTorch should be installed. To install TensorFlow 2.0, read the instructions at https://www.tensorflow.org/install/ To install PyTorch, read the instructions at https://pytorch.org/."
     ]
    }
   ],
   "source": [
    "\n",
    "sentiment_pipeline = pipeline(\"sentiment-analysis\")\n",
    "training_data[\"pipeline_sentiment_score\"] = training_data[\"content\"].apply(\n",
    "    lambda x: sentiment_pipeline([str(x)])[0][\"label\"])\n",
    "\n"
   ]
  }
 ],
 "metadata": {
  "kernelspec": {
   "display_name": "Python 3.10.2 64-bit",
   "language": "python",
   "name": "python3"
  },
  "language_info": {
   "codemirror_mode": {
    "name": "ipython",
    "version": 3
   },
   "file_extension": ".py",
   "mimetype": "text/x-python",
   "name": "python",
   "nbconvert_exporter": "python",
   "pygments_lexer": "ipython3",
   "version": "3.10.2"
  },
  "orig_nbformat": 4,
  "vscode": {
   "interpreter": {
    "hash": "98590ff4fe04c8543246b2a01debd3de3c5ca9b666f43f1fa87d5110c692004c"
   }
  }
 },
 "nbformat": 4,
 "nbformat_minor": 2
}
