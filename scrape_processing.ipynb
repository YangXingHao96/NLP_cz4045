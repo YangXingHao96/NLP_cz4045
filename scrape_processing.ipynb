{
 "cells": [
  {
   "cell_type": "code",
   "execution_count": 1,
   "metadata": {},
   "outputs": [],
   "source": [
    "import pickle\n",
    "import pandas as pd\n",
    "import numpy as np"
   ]
  },
  {
   "cell_type": "code",
   "execution_count": 2,
   "metadata": {},
   "outputs": [
    {
     "data": {
      "text/html": [
       "<div>\n",
       "<style scoped>\n",
       "    .dataframe tbody tr th:only-of-type {\n",
       "        vertical-align: middle;\n",
       "    }\n",
       "\n",
       "    .dataframe tbody tr th {\n",
       "        vertical-align: top;\n",
       "    }\n",
       "\n",
       "    .dataframe thead th {\n",
       "        text-align: right;\n",
       "    }\n",
       "</style>\n",
       "<table border=\"1\" class=\"dataframe\">\n",
       "  <thead>\n",
       "    <tr style=\"text-align: right;\">\n",
       "      <th></th>\n",
       "      <th>reviewId</th>\n",
       "      <th>userName</th>\n",
       "      <th>userImage</th>\n",
       "      <th>content</th>\n",
       "      <th>score</th>\n",
       "      <th>thumbsUpCount</th>\n",
       "      <th>reviewCreatedVersion</th>\n",
       "      <th>at</th>\n",
       "      <th>replyContent</th>\n",
       "      <th>repliedAt</th>\n",
       "    </tr>\n",
       "  </thead>\n",
       "  <tbody>\n",
       "    <tr>\n",
       "      <th>0</th>\n",
       "      <td>86ff1ea1-0b63-43ce-addc-eb43f6193b3b</td>\n",
       "      <td>Yaseen Yaseen</td>\n",
       "      <td>https://play-lh.googleusercontent.com/a/ALm5wu...</td>\n",
       "      <td>Yaeen Yaeen gg</td>\n",
       "      <td>5</td>\n",
       "      <td>0</td>\n",
       "      <td>None</td>\n",
       "      <td>2022-10-04 20:32:28</td>\n",
       "      <td>None</td>\n",
       "      <td>NaT</td>\n",
       "    </tr>\n",
       "    <tr>\n",
       "      <th>1</th>\n",
       "      <td>3577f7a1-3394-4e77-813d-095a82cf8bcf</td>\n",
       "      <td>Kemar Richardson</td>\n",
       "      <td>https://play-lh.googleusercontent.com/a-/ACNPE...</td>\n",
       "      <td>Great</td>\n",
       "      <td>5</td>\n",
       "      <td>0</td>\n",
       "      <td>26.3.4</td>\n",
       "      <td>2022-10-04 20:32:10</td>\n",
       "      <td>None</td>\n",
       "      <td>NaT</td>\n",
       "    </tr>\n",
       "    <tr>\n",
       "      <th>2</th>\n",
       "      <td>7c8c56d9-d8ad-47d4-b24b-5289aa4529ff</td>\n",
       "      <td>Tracy Dunn</td>\n",
       "      <td>https://play-lh.googleusercontent.com/a/ALm5wu...</td>\n",
       "      <td>good</td>\n",
       "      <td>5</td>\n",
       "      <td>0</td>\n",
       "      <td>26.4.3</td>\n",
       "      <td>2022-10-04 20:31:21</td>\n",
       "      <td>None</td>\n",
       "      <td>NaT</td>\n",
       "    </tr>\n",
       "    <tr>\n",
       "      <th>3</th>\n",
       "      <td>80db804f-cccd-4b09-b690-abc12cbf0612</td>\n",
       "      <td>SG. Mugo. (Mugoz:)</td>\n",
       "      <td>https://play-lh.googleusercontent.com/a-/ACNPE...</td>\n",
       "      <td>Good app</td>\n",
       "      <td>5</td>\n",
       "      <td>0</td>\n",
       "      <td>26.3.4</td>\n",
       "      <td>2022-10-04 20:30:22</td>\n",
       "      <td>None</td>\n",
       "      <td>NaT</td>\n",
       "    </tr>\n",
       "    <tr>\n",
       "      <th>4</th>\n",
       "      <td>4ed35e90-0f45-4865-81c4-b3a6f2ea49f7</td>\n",
       "      <td>Mwansa Judy</td>\n",
       "      <td>https://play-lh.googleusercontent.com/a-/ACNPE...</td>\n",
       "      <td>Most amazing app</td>\n",
       "      <td>5</td>\n",
       "      <td>0</td>\n",
       "      <td>26.3.4</td>\n",
       "      <td>2022-10-04 20:29:25</td>\n",
       "      <td>None</td>\n",
       "      <td>NaT</td>\n",
       "    </tr>\n",
       "  </tbody>\n",
       "</table>\n",
       "</div>"
      ],
      "text/plain": [
       "                               reviewId            userName  \\\n",
       "0  86ff1ea1-0b63-43ce-addc-eb43f6193b3b       Yaseen Yaseen   \n",
       "1  3577f7a1-3394-4e77-813d-095a82cf8bcf    Kemar Richardson   \n",
       "2  7c8c56d9-d8ad-47d4-b24b-5289aa4529ff          Tracy Dunn   \n",
       "3  80db804f-cccd-4b09-b690-abc12cbf0612  SG. Mugo. (Mugoz:)   \n",
       "4  4ed35e90-0f45-4865-81c4-b3a6f2ea49f7         Mwansa Judy   \n",
       "\n",
       "                                           userImage           content  score  \\\n",
       "0  https://play-lh.googleusercontent.com/a/ALm5wu...    Yaeen Yaeen gg      5   \n",
       "1  https://play-lh.googleusercontent.com/a-/ACNPE...             Great      5   \n",
       "2  https://play-lh.googleusercontent.com/a/ALm5wu...              good      5   \n",
       "3  https://play-lh.googleusercontent.com/a-/ACNPE...          Good app      5   \n",
       "4  https://play-lh.googleusercontent.com/a-/ACNPE...  Most amazing app      5   \n",
       "\n",
       "   thumbsUpCount reviewCreatedVersion                  at replyContent  \\\n",
       "0              0                 None 2022-10-04 20:32:28         None   \n",
       "1              0               26.3.4 2022-10-04 20:32:10         None   \n",
       "2              0               26.4.3 2022-10-04 20:31:21         None   \n",
       "3              0               26.3.4 2022-10-04 20:30:22         None   \n",
       "4              0               26.3.4 2022-10-04 20:29:25         None   \n",
       "\n",
       "  repliedAt  \n",
       "0       NaT  \n",
       "1       NaT  \n",
       "2       NaT  \n",
       "3       NaT  \n",
       "4       NaT  "
      ]
     },
     "execution_count": 2,
     "metadata": {},
     "output_type": "execute_result"
    }
   ],
   "source": [
    "# read in pickle\n",
    "with open('result2.pkl', 'rb') as f:\n",
    "    result = pickle.load(f)\n",
    "\n",
    "# convert to dataframe and store as pickle\n",
    "df = pd.DataFrame(result)\n",
    "df.to_pickle('df.pkl')\n",
    "\n",
    "# print df head\n",
    "df.head()"
   ]
  },
  {
   "cell_type": "code",
   "execution_count": 3,
   "metadata": {},
   "outputs": [
    {
     "data": {
      "text/plain": [
       "Index(['reviewId', 'userName', 'userImage', 'content', 'score',\n",
       "       'thumbsUpCount', 'reviewCreatedVersion', 'at', 'replyContent',\n",
       "       'repliedAt'],\n",
       "      dtype='object')"
      ]
     },
     "execution_count": 3,
     "metadata": {},
     "output_type": "execute_result"
    }
   ],
   "source": [
    "# check fields inside df\n",
    "df.columns"
   ]
  },
  {
   "cell_type": "code",
   "execution_count": 4,
   "metadata": {},
   "outputs": [
    {
     "data": {
      "text/plain": [
       "reviewId                14178\n",
       "userName                14178\n",
       "userImage               14178\n",
       "content                 14178\n",
       "score                   14178\n",
       "thumbsUpCount           14178\n",
       "reviewCreatedVersion     9491\n",
       "at                      14178\n",
       "replyContent               13\n",
       "repliedAt                  13\n",
       "dtype: int64"
      ]
     },
     "execution_count": 4,
     "metadata": {},
     "output_type": "execute_result"
    }
   ],
   "source": [
    "# check how many reviews with score of 1\n",
    "df[df.score == 1].count()"
   ]
  },
  {
   "cell_type": "code",
   "execution_count": 5,
   "metadata": {},
   "outputs": [],
   "source": [
    "import pandas as pd\n",
    "from pandas import DataFrame\n",
    "import re\n",
    "import nltk\n",
    "from nltk.corpus import stopwords\n",
    "from nltk.tokenize import word_tokenize\n",
    "from nltk.stem.porter import PorterStemmer\n",
    "from nltk.stem import WordNetLemmatizer\n",
    "import string"
   ]
  },
  {
   "cell_type": "markdown",
   "metadata": {},
   "source": [
    "We will implement functions to clean up the tweets, we will want to remove unnecesary stop words, punctuations @mentions, #hashtags, emojis and lemmatize the tweets"
   ]
  },
  {
   "cell_type": "code",
   "execution_count": 6,
   "metadata": {},
   "outputs": [],
   "source": [
    "def remove_mentions(tweet: str) -> str:\n",
    "    clean_tweet: str = re.sub(\"@[A-Za-z0-9_]+\", \"\", tweet)\n",
    "    return clean_tweet\n",
    "    \n",
    "def remove_hash_tag(tweet: str) -> str:\n",
    "    clean_tweet: str = re.sub(\"#[A-Za-z0-9_]+\", \"\", clean_tweet)\n",
    "    return clean_tweet\n",
    "\n",
    "\n",
    "def remove_emojis(tweet: str) -> str:\n",
    "    emoji_pattern = re.compile(\"[\"\n",
    "                               u\"\\U0001F600-\\U0001F64F\"  # emoticons\n",
    "                               u\"\\U0001F300-\\U0001F5FF\"  # symbols & pictographs\n",
    "                               u\"\\U0001F680-\\U0001F6FF\"  # transport & map symbols\n",
    "                               u\"\\U0001F1E0-\\U0001F1FF\"  # flags (iOS)\n",
    "                               u\"\\U00002702-\\U000027B0\"\n",
    "                               u\"\\U000024C2-\\U0001F251\"\n",
    "                               \"]+\", flags=re.UNICODE)\n",
    "    return emoji_pattern.sub(r'', tweet)\n",
    "\n",
    "def remove_punctuations(review: str) -> str:\n",
    "    words: list[str] = review.split()\n",
    "    table: dict[int, int] = str.maketrans('', '', string.punctuation)\n",
    "    stripped: list[str] = [w.translate(table) for w in words]\n",
    "    return \" \".join(stripped)\n",
    "\n",
    "def normalize(review: str) -> str:\n",
    "    return review.lower()\n",
    "\n",
    "def remove_stopwords(review: str, stopwords: set[str]) -> str:\n",
    "    words: list[str] = review.split()\n",
    "    words = [w for w in words if not w in stopwords]\n",
    "    return \" \".join(words)\n",
    "\n",
    "\n",
    "def stemming(review: str) -> str:\n",
    "    tokens: list[str] = word_tokenize(review)\n",
    "    porter: PorterStemmer = PorterStemmer()\n",
    "    stemmed: list[str] = [porter.stem(word) for word in tokens]\n",
    "    return \" \".join(stemmed)\n",
    "\n",
    "def lemmatize(review: str) -> str:\n",
    "    lemmatizer = WordNetLemmatizer()\n",
    "    tokens: list[str] = word_tokenize(review)\n",
    "    lemmatized: list[str] = [lemmatizer.lemmatize(word) for word in tokens]\n",
    "    return \" \".join(lemmatized)"
   ]
  },
  {
   "cell_type": "code",
   "execution_count": 7,
   "metadata": {},
   "outputs": [],
   "source": [
    "def clean_review(review: str, stopwords: set[str]) -> str:\n",
    "    result: str = remove_stopwords(normalize(remove_punctuations(review)), stopwords)\n",
    "    return result"
   ]
  },
  {
   "cell_type": "code",
   "execution_count": 8,
   "metadata": {},
   "outputs": [],
   "source": [
    "def clean_data(df: DataFrame):\n",
    "    # df['content'] = df['content'].apply(lambda x: x if is_english(x) else '')\n",
    "    # df = df[df['content'] != '']\n",
    "    review: list[str] = list(df[\"content\"])\n",
    "    stop_words: set[str] = set(stopwords.words('english'))\n",
    "    cleaned_review: list[str] = list()\n",
    "    for i, review in enumerate(review):\n",
    "        cleaned_review = clean_review(review, stop_words)\n",
    "        cleaned_review.append(cleaned_review)\n",
    "    df[\"Clean_texts\"] = cleaned_review"
   ]
  },
  {
   "cell_type": "code",
   "execution_count": 9,
   "metadata": {},
   "outputs": [],
   "source": [
    "# from langdetect import detect\n",
    "# def detect_my(text):\n",
    "#    try:\n",
    "#        return detect(text)\n",
    "#    except:\n",
    "#        return 'unknown'\n",
    "\n",
    "# # df['language'] = df['content'].apply(detect_my)\n",
    "\n",
    "# detect_my('english')"
   ]
  },
  {
   "cell_type": "code",
   "execution_count": 10,
   "metadata": {},
   "outputs": [
    {
     "name": "stderr",
     "output_type": "stream",
     "text": [
      "C:\\Users\\ngliw\\AppData\\Local\\Temp\\ipykernel_18336\\165540621.py:13: FutureWarning: The default value of regex will change from True to False in a future version.\n",
      "  df['content'] = df['content'].str.replace('[^\\w\\s]','')\n"
     ]
    }
   ],
   "source": [
    "import re\n",
    "\n",
    "# return new column \"is_english\" with True or False\n",
    "def is_english(text):\n",
    "    try:\n",
    "        return bool(re.search('[a-zA-Z]', text))\n",
    "    except:\n",
    "        return False\n",
    "\n",
    "df['is_english'] = df['content'].apply(is_english)\n",
    "\n",
    "# remove puncutation\n",
    "df['content'] = df['content'].str.replace('[^\\w\\s]','')\n",
    "\n",
    "# save new df as pickle\n",
    "df.to_pickle('df_english.pkl')\n",
    "\n",
    "# save df to json\n",
    "df.to_json('df_english.json')\n",
    "\n",
    "# save df to csv\n",
    "df.to_csv('df_english.csv')"
   ]
  }
 ],
 "metadata": {
  "kernelspec": {
   "display_name": "Python 3.10.6 64-bit",
   "language": "python",
   "name": "python3"
  },
  "language_info": {
   "codemirror_mode": {
    "name": "ipython",
    "version": 3
   },
   "file_extension": ".py",
   "mimetype": "text/x-python",
   "name": "python",
   "nbconvert_exporter": "python",
   "pygments_lexer": "ipython3",
   "version": "3.10.6"
  },
  "orig_nbformat": 4,
  "vscode": {
   "interpreter": {
    "hash": "f4fcc0bc489f20978eaef2e26988f018e7c985e37b325092f9dec89fa4edafe7"
   }
  }
 },
 "nbformat": 4,
 "nbformat_minor": 2
}
